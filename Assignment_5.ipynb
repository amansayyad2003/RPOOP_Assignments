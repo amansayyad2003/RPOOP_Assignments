{
 "cells": [
  {
   "cell_type": "code",
   "execution_count": 1,
   "id": "661a45e2",
   "metadata": {},
   "outputs": [],
   "source": [
    "import tkinter as tk\n",
    "from functools import partial"
   ]
  },
  {
   "cell_type": "code",
   "execution_count": 2,
   "id": "ddbf0bbd",
   "metadata": {},
   "outputs": [
    {
     "data": {
      "text/plain": [
       "''"
      ]
     },
     "execution_count": 2,
     "metadata": {},
     "output_type": "execute_result"
    }
   ],
   "source": [
    "root = tk.Tk()\n",
    "root.geometry('450x450')"
   ]
  },
  {
   "cell_type": "code",
   "execution_count": 3,
   "id": "1e3397df",
   "metadata": {},
   "outputs": [],
   "source": [
    "my_menu = tk.Menu(root)\n",
    "root.config(menu = my_menu)\n",
    "file_menu = tk.Menu(my_menu)"
   ]
  },
  {
   "cell_type": "code",
   "execution_count": 4,
   "id": "642d133c",
   "metadata": {},
   "outputs": [],
   "source": [
    "var1 = tk.StringVar()\n",
    "var2 = tk.StringVar()\n",
    "textvar = tk.StringVar()"
   ]
  },
  {
   "cell_type": "code",
   "execution_count": 5,
   "id": "9379796a",
   "metadata": {},
   "outputs": [],
   "source": [
    "def command():\n",
    "    pass\n",
    "\n",
    "def print1(string, n1, n2):\n",
    "    str1 = (n1.get())\n",
    "    num1 = (n2.get())\n",
    "    string.set(\"User Name: \" + str1 + \"\\n\\nNumber: \" + num1)\n",
    "    return"
   ]
  },
  {
   "cell_type": "code",
   "execution_count": 6,
   "id": "39a2e25e",
   "metadata": {},
   "outputs": [],
   "source": [
    "my_menu.add_cascade(label=\"File\", menu=file_menu)"
   ]
  },
  {
   "cell_type": "code",
   "execution_count": 7,
   "id": "3f659354",
   "metadata": {},
   "outputs": [],
   "source": [
    "file_menu.add_command(label = \"New\", command=command)\n",
    "file_menu.add_separator()\n",
    "file_menu.add_command(label = \"Exit\", command = root.quit)"
   ]
  },
  {
   "cell_type": "code",
   "execution_count": 8,
   "id": "c345d3d3",
   "metadata": {},
   "outputs": [],
   "source": [
    "#edit menu\n",
    "edit_menu = tk.Menu(my_menu)\n",
    "my_menu.add_cascade(label=\"Edit\", menu=edit_menu)\n"
   ]
  },
  {
   "cell_type": "code",
   "execution_count": 9,
   "id": "f8c19e76",
   "metadata": {},
   "outputs": [],
   "source": [
    "edit_menu.add_command(label=\"Cut\", command=command)\n",
    "edit_menu.add_command(label=\"copy\", command=command)"
   ]
  },
  {
   "cell_type": "code",
   "execution_count": 10,
   "id": "ecf8354c",
   "metadata": {},
   "outputs": [],
   "source": [
    "#view menu\n",
    "view_menu = tk.Menu(my_menu)\n",
    "my_menu.add_cascade(label = \"View\", menu = view_menu)"
   ]
  },
  {
   "cell_type": "code",
   "execution_count": 11,
   "id": "f273b3bb",
   "metadata": {},
   "outputs": [],
   "source": [
    "label1 = tk.Label(root, text = \"User Name: \", bg = \"#65CFBD\", height = 2, width = 15, borderwidth = 1, relief = \"solid\").place(x = 20, y = 60)\n",
    "label2 = tk.Label(root, text = \"Number: \", bg = \"#C2EEE7\", height = 2, width = 15, bd = 10, borderwidth = 1, relief = \"solid\").place(x = 20, y = 100)\n",
    "tk.Label(root, textvariable = textvar, height = 5, width = 50).place(x = 20, y = 200)"
   ]
  },
  {
   "cell_type": "code",
   "execution_count": 12,
   "id": "b890aae2",
   "metadata": {},
   "outputs": [],
   "source": [
    "e1 = tk.Entry(root, width = 20, font = ('Arial', 15), textvariable = var1).place(x = 150, y = 60)\n",
    "e2 = tk.Entry(root, width = 20, font = ('Arial', 15), textvariable = var2).place(x = 150, y = 100)"
   ]
  },
  {
   "cell_type": "code",
   "execution_count": 13,
   "id": "f7120081",
   "metadata": {},
   "outputs": [],
   "source": [
    "print1 = partial(print1, textvar, var1, var2)"
   ]
  },
  {
   "cell_type": "code",
   "execution_count": 14,
   "id": "9129ac14",
   "metadata": {},
   "outputs": [],
   "source": [
    "b1 = tk.Button(text = \"Submit\", height = 2, width = 8, command = print1).place(x = 200, y = 150)"
   ]
  },
  {
   "cell_type": "code",
   "execution_count": null,
   "id": "b2925c5f",
   "metadata": {},
   "outputs": [],
   "source": [
    "root.mainloop()"
   ]
  }
 ],
 "metadata": {
  "kernelspec": {
   "display_name": "Python 3 (ipykernel)",
   "language": "python",
   "name": "python3"
  },
  "language_info": {
   "codemirror_mode": {
    "name": "ipython",
    "version": 3
   },
   "file_extension": ".py",
   "mimetype": "text/x-python",
   "name": "python",
   "nbconvert_exporter": "python",
   "pygments_lexer": "ipython3",
   "version": "3.9.13"
  }
 },
 "nbformat": 4,
 "nbformat_minor": 5
}
